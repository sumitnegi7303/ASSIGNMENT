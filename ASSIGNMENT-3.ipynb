{
 "cells": [
  {
   "cell_type": "markdown",
   "id": "bbc6a123",
   "metadata": {},
   "source": [
    "OBJECT ORIENTED PROGRAMMING EXERCISE\n",
    "\n",
    "OOP Exercise 1: Create a Vehicle class with max_speed and mileage As Data\n",
    "Members\n",
    "\n",
    "OOP Exercise 2: Create a Vehicle class without any variables and method\n",
    "\n",
    "OOP Exercise 3: Create a child class Bus that will inherit all of the variables and\n",
    "methods of the Vehicle class\n",
    "Given:\n",
    "\n",
    "OOP Exercise 4:\n",
    "Define property that should have the same value for every class instance\n",
    "Define a class attribute”color” with a default value white. I.e., Every Vehicle should be\n",
    "white.\n",
    "Use the following code for this exercise.\n",
    "\n",
    "OOP Exercise 5: Class Inheritance\n",
    "Given:\n",
    "Create a Bus child class that inherits from the Vehicle class. The default fare charge of\n",
    "any vehicle is seating capacity * 100. If Vehicle is Bus instance, we need to add an extra\n",
    "10% on full fare as a maintenance charge. So total fare for bus instance will become the\n",
    "final amount = total fare + 10% of the total fare.\n",
    "Note: The bus seating capacity is 50. so the final fare amount should be 5500. You need\n",
    "to override the fare() method of a Vehicle class in Bus class.\n",
    "Use the following code for your parent Vehicle class. We need to access the parent\n",
    "class from inside a method of a child class.\n",
    "OOP Exercise\n",
    "\n",
    "6: Determine which class a given Bus object belongs to (Check type of an\n",
    "object"
   ]
  },
  {
   "cell_type": "code",
   "execution_count": 35,
   "id": "f3982f66",
   "metadata": {},
   "outputs": [
    {
     "name": "stdout",
     "output_type": "stream",
     "text": [
      "Color: White, Vehicle name: School Volvo, Speed: 180, Mileage: 12\n",
      "Color: White, Vehicle name: Audi Q5, Speed: 240, Mileage: 18\n"
     ]
    }
   ],
   "source": [
    "class Vehicle:\n",
    "\n",
    "    def __init__(self, name, max_speed, mileage):\n",
    "        self.color = \"White\"\n",
    "        self.name = name\n",
    "        self.max_speed = max_speed\n",
    "        self.mileage = mileage\n",
    "\n",
    "    def __str__(self):\n",
    "        return f\"Color: {self.color}, Vehicle name: {self.name}, Speed: {self.max_speed}, Mileage: {self.mileage}\"\n",
    "\n",
    "class Bus(Vehicle):\n",
    "     pass\n",
    "\n",
    "class Car(Vehicle):\n",
    "    pass\n",
    "\n",
    "\n",
    "bus = Bus(\"School Volvo\", 180, 12)\n",
    "car = Car(\"Audi Q5\", 240, 18)\n",
    "print(bus)\n",
    "print(car)"
   ]
  },
  {
   "cell_type": "code",
   "execution_count": 40,
   "id": "61dde078",
   "metadata": {},
   "outputs": [
    {
     "name": "stdout",
     "output_type": "stream",
     "text": [
      "Total Bus fare is: 5500.0\n"
     ]
    }
   ],
   "source": [
    "class Vehicle:\n",
    "    def __init__(self, name, mileage, capacity):\n",
    "        self.name = name\n",
    "        self.mileage = mileage\n",
    "        self.capacity = capacity\n",
    "\n",
    "    def fare(self):\n",
    "        return self.capacity * 100\n",
    "\n",
    "class Bus(Vehicle):\n",
    "    def __init__(self, name, mileage, capacity = 50):\n",
    "        super().__init__(name, mileage, capacity)\n",
    "        \n",
    "    def fare(self):\n",
    "        fare = super().fare()\n",
    "        # this is bus so we need to add an extra 10% on full fare as a maintenance charge\n",
    "        total_fare = fare + (fare*0.10)\n",
    "        return total_fare\n",
    "        \n",
    "\n",
    "School_bus = Bus(\"School Volvo\", 12)\n",
    "print(\"Total Bus fare is:\", School_bus.fare())"
   ]
  },
  {
   "cell_type": "markdown",
   "id": "260dcca9",
   "metadata": {},
   "source": [
    "OOP Exercise 3: Create a child class Bus that will inherit all of the variables and methods of the Vehicle class Given:"
   ]
  },
  {
   "cell_type": "code",
   "execution_count": 1,
   "id": "d7996ec9",
   "metadata": {},
   "outputs": [
    {
     "name": "stdout",
     "output_type": "stream",
     "text": [
      "Vehicle Name: School Volvo Speed: 180 Mileage: 12\n"
     ]
    }
   ],
   "source": [
    "class Vehicle:\n",
    "\n",
    "    def __init__(self, name, max_speed, mileage):\n",
    "        self.name = name\n",
    "        self.max_speed = max_speed\n",
    "        self.mileage = mileage\n",
    "\n",
    "class Bus(Vehicle):\n",
    "    pass\n",
    "\n",
    "School_bus = Bus(\"School Volvo\", 180, 12)\n",
    "print(\"Vehicle Name:\", School_bus.name, \"Speed:\", School_bus.max_speed, \"Mileage:\", School_bus.mileage)"
   ]
  },
  {
   "cell_type": "markdown",
   "id": "e63b04f3",
   "metadata": {},
   "source": [
    "OOP Exercise 4: Define property that should have the same value for every class instance Define a class attribute”color” with a default value white. I.e., Every Vehicle should be white. Use the following code for this exercise."
   ]
  },
  {
   "cell_type": "code",
   "execution_count": null,
   "id": "1a2675b2",
   "metadata": {},
   "outputs": [],
   "source": [
    "class Vehicle:\n",
    "\n",
    "    def __init__(self, name, max_speed, mileage):\n",
    "        self.name = name\n",
    "        self.max_speed = max_speed\n",
    "        self.mileage = mileage"
   ]
  }
 ],
 "metadata": {
  "kernelspec": {
   "display_name": "Python 3 (ipykernel)",
   "language": "python",
   "name": "python3"
  },
  "language_info": {
   "codemirror_mode": {
    "name": "ipython",
    "version": 3
   },
   "file_extension": ".py",
   "mimetype": "text/x-python",
   "name": "python",
   "nbconvert_exporter": "python",
   "pygments_lexer": "ipython3",
   "version": "3.9.7"
  }
 },
 "nbformat": 4,
 "nbformat_minor": 5
}
