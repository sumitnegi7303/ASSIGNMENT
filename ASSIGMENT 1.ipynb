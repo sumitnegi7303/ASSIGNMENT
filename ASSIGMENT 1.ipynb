{
 "cells": [
  {
   "cell_type": "markdown",
   "id": "a68b6b24",
   "metadata": {},
   "source": [
    "# CONDITIONAL STATEMENTS\n",
    "Q1: Write a python program to check whether the given number is even or odd\n",
    "\n",
    "Q2: Write a Python program to guess a number between 1 to 9 using elif\n",
    "\n",
    "Q3: Write a Python program to count the number of even and odd numbers from a series of numbers\n",
    "\n",
    "Q4: Write an if statement that asks for the user's name via the input() function. If the name is \"Bond\" make\n",
    "it print \"Welcome on bond 007.\" Otherwise, make it print \"Good morning NAME\". (Replace Name with\n",
    "user's name)\n",
    "\n",
    "Q5: Write a python program that accepts the 4 inputs from the user save them to a variable and Find the\n",
    "largest number using and keyword\n",
    "\n",
    "Q6:Convert the below englist statement into code : values should be accepted from user If you got more\n",
    "than 50% marks in physics you will get new cycle\n",
    "\n",
    "Q7: Convert the below englist statement into code : values should be accepted from user If you got more\n",
    "than 60% marks in maths then you will get new cycle else no pocket money\n",
    "\n",
    "Q8: Convert the below englist statement into code : values should be accepted from user If you got more\n",
    "than 80% marks in maths, and more than or equal to 70% marks in science and more than or equal to\n",
    "90% marks in English then you will get an ipad [NOTE: MAKE SURE THERE SHOULD BE ONE else\n",
    "Statement with each if statement with proper indentation]\n",
    "# LOOPS\n",
    "Q1: using for loop and range()\n",
    "1) Print 0-10\n",
    "2) Print hello world 5 times\n",
    "3) Print 2-20\n",
    "4) Print 5-55 in steps of 10\n",
    "\n",
    "Q2:Create one list and iterate over the list using for,len and range\n",
    "\n",
    "Q3:Create a list fruits store apple,banana,grapes,oranges using for loop iterate and when it reaches to a\n",
    "banana if shoud print banana is available\n",
    "\n",
    "Q4: Convert the below english statement into code : values should be accepted from user If you got more\n",
    "than 60% marks overall I will give you salute five times(means we should print salute five times)else I will\n",
    "punish you five times(means we should print punishment five times)\n",
    "\n",
    "Q5: Convert the below englist statement into code : values should be accepted from user If you got more\n",
    "than 80% marks in maths, and more than or equal to 70% marks in science and more than or equal to\n",
    "90% marks in English then I will salute you as many times you want(means program should print\n",
    "whatever time user will say)\n",
    "[NOTE: MAKE SURE THERE SHOULD BE ONE else Statement with each if statement with proper\n",
    "indentation] Q6: Using for loop and range function print 0 – 100 but break the loop if it reaches 12\n",
    "\n",
    "Q7: Using for loop and range function print 0 – 10 but it shouldn’t print 7\n",
    "\n",
    "Q8: Create a list of names and iterate over them and print the index and item present at that particular\n",
    "index\n",
    "\n",
    "Q9 : From a range of numbers iterate over that range print which one is even and which one is odd\n",
    "\n",
    "# FUCTIONS\n",
    "Q1: Create a function and the functionality should be it should print “Hello caller”\n",
    "Call this function multiple times\n",
    "\n",
    "Q2: Create a function which accept one variable(parameter) and print its value\n",
    "\n",
    "Q3: Create a function which accepts one variable and checks whether its even or odd\n",
    "\n",
    "Q4: Create a function which accept two values and prints which one is larger value\n",
    "\n",
    "Q5: Create a function which accept two values and prints which one is smaller value\n",
    "\n",
    "Q6: Create a function which can accept any number of parameters\n",
    "\n",
    "Q7: Create a function which will accept a list and functionality of the function should be it should iterate\n",
    "over the list and print all the elements with there respective indexes\n",
    "\n",
    "Q8: Create a function which will have default parameters and doesn’t give error when we don’t pass the\n",
    "parameters Q9: Create a function which can find the largest item inside the list\n",
    "\n",
    "Q10: Create a function which a print all even and odd number over a specified range"
   ]
  },
  {
   "cell_type": "markdown",
   "id": "02924287",
   "metadata": {},
   "source": [
    "Answer- 1"
   ]
  },
  {
   "cell_type": "markdown",
   "id": "76ace409",
   "metadata": {},
   "source": [
    "Q1: Write a python program to check whether the given number is even or odd"
   ]
  },
  {
   "cell_type": "code",
   "execution_count": 9,
   "id": "0324e23a",
   "metadata": {},
   "outputs": [
    {
     "name": "stdout",
     "output_type": "stream",
     "text": [
      "enter the number: 3\n",
      "odd\n"
     ]
    }
   ],
   "source": [
    "n=int(input(\"enter the number: \"))\n",
    "if n%2 == 0:\n",
    "    print(\"even\")\n",
    "else:\n",
    "    print(\"odd\")\n",
    "        "
   ]
  },
  {
   "cell_type": "markdown",
   "id": "17c072c6",
   "metadata": {},
   "source": [
    "Q2. Write a python program to guess a number between 1 to 9 using elif"
   ]
  },
  {
   "cell_type": "code",
   "execution_count": 27,
   "id": "95a87273",
   "metadata": {},
   "outputs": [
    {
     "name": "stdout",
     "output_type": "stream",
     "text": [
      "enter a number: 9\n",
      "well guess\n"
     ]
    }
   ],
   "source": [
    "n = input(\"enter a number: \")\n",
    "\n",
    "if (n > \"1\"):\n",
    "    print(\"well guess\")\n",
    "    \n",
    "elif (n < \"10\"):\n",
    "    print(\"wrong guess\")\n",
    "    \n",
    "    \n",
    "    "
   ]
  },
  {
   "cell_type": "markdown",
   "id": "d1e6ecb7",
   "metadata": {},
   "source": [
    "Q3: Write a Python program to count the number of even and odd numbers from a series of numbers"
   ]
  },
  {
   "cell_type": "code",
   "execution_count": 33,
   "id": "9dd05ae2",
   "metadata": {},
   "outputs": [
    {
     "name": "stdout",
     "output_type": "stream",
     "text": [
      "10 even\n",
      "11 odd\n",
      "12 even\n",
      "13 odd\n",
      "14 even\n",
      "15 odd\n",
      "16 even\n",
      "17 odd\n",
      "18 even\n",
      "19 odd\n",
      "20 even\n"
     ]
    }
   ],
   "source": [
    "i = 9\n",
    "while i <20:\n",
    "    i = i+1\n",
    "    if i%2==0:\n",
    "        print(i,\"even\")\n",
    "    else:\n",
    "        print(i,\"odd\")"
   ]
  },
  {
   "cell_type": "markdown",
   "id": "849b8475",
   "metadata": {},
   "source": [
    "Q4: Write an if statement that asks for the user's name via the input() function. If the name is \"Bond\" make\n",
    "it print \"Welcome on bond 007.\" Otherwise, make it print \"Good morning NAME\". (Replace Name with\n",
    "user's name)"
   ]
  },
  {
   "cell_type": "code",
   "execution_count": 34,
   "id": "c7a6065b",
   "metadata": {},
   "outputs": [
    {
     "name": "stdout",
     "output_type": "stream",
     "text": [
      "name :bond\n",
      "good morning bond\n"
     ]
    }
   ],
   "source": [
    "name = input('name :')\n",
    "if \"Bond\" in name:\n",
    "    print(\"welcome on bond 007\")\n",
    "else:\n",
    "    print(\"good morning bond\")"
   ]
  },
  {
   "cell_type": "markdown",
   "id": "758d2da8",
   "metadata": {},
   "source": [
    "Q5: Write a python program that accepts the 4 inputs from the user save them to a variable and Find the\n",
    "largest number using and keyword"
   ]
  },
  {
   "cell_type": "code",
   "execution_count": 36,
   "id": "f5edd3f5",
   "metadata": {},
   "outputs": [
    {
     "name": "stdout",
     "output_type": "stream",
     "text": [
      "enter the number :9\n",
      "enter the number :5\n",
      "enter the number :2\n",
      "enter the number :4\n",
      "A is largest\n"
     ]
    }
   ],
   "source": [
    "A = input('enter the number :')\n",
    "B = input('enter the number :')\n",
    "C = input('enter the number :')\n",
    "D = input('enter the number :')\n",
    "\n",
    "if A>B and A>C and A>D:\n",
    "    print(\"A is largest\")\n",
    "elif B>A and B>C and B>D:\n",
    "        print(\"B is largest\")\n",
    "elif C>A and C>B and C>D :\n",
    "            print(\"C is largest\")\n",
    "else :\n",
    "    print(\"D is largest \")"
   ]
  },
  {
   "cell_type": "markdown",
   "id": "a270d33d",
   "metadata": {},
   "source": [
    "Q6:Convert the below englist statement into code : values should be accepted from user If you got more\n",
    "than 50% marks in physics you will get new cycle\n",
    "\n",
    "Q7: Convert the below englist statement into code : values should be accepted from user If you got more\n",
    "than 60% marks in maths then you will get new cycle else no pocket money\n",
    "\n",
    "Q8: Convert the below englist statement into code : values should be accepted from user If you got more\n",
    "than 80% marks in maths, and more than or equal to 70% marks in science and more than or equal to\n",
    "90% marks in English then you will get an ipad [NOTE: MAKE SURE THERE SHOULD BE ONE else\n",
    "Statement with each if statement with proper indentation]"
   ]
  },
  {
   "cell_type": "markdown",
   "id": "67d359eb",
   "metadata": {},
   "source": [
    "Q6:Convert the below englist statement into code : values should be accepted from user If you got more\n",
    "than 50% marks in physics you will get new cycle"
   ]
  },
  {
   "cell_type": "code",
   "execution_count": 43,
   "id": "e903d466",
   "metadata": {},
   "outputs": [
    {
     "name": "stdout",
     "output_type": "stream",
     "text": [
      "enter a physics marks: 55\n",
      "get new cycle\n"
     ]
    }
   ],
   "source": [
    "marks = input(\"enter a physics marks: \")\n",
    "\n",
    "if(marks > \"50%\"):\n",
    "    print(\"get new cycle\")\n",
    "    \n",
    "elif(marks < \"50%\"):\n",
    "    print(\"no cycle\")\n",
    " "
   ]
  },
  {
   "cell_type": "code",
   "execution_count": 42,
   "id": "70775676",
   "metadata": {},
   "outputs": [
    {
     "name": "stdout",
     "output_type": "stream",
     "text": [
      "enter a physics marks: 45\n",
      "no cycle\n"
     ]
    }
   ],
   "source": [
    "marks = input(\"enter a physics marks: \")\n",
    "\n",
    "if(marks > \"50%\"):\n",
    "    print(\"get new cycle\")\n",
    "    \n",
    "elif(marks < \"50%\"):\n",
    "    print(\"no cycle\")\n",
    " "
   ]
  },
  {
   "cell_type": "markdown",
   "id": "d3924ad8",
   "metadata": {},
   "source": [
    "Q7: Convert the below englist statement into code : values should be accepted from user If you got more\n",
    "than 60% marks in maths then you will get new cycle else no pocket money"
   ]
  },
  {
   "cell_type": "code",
   "execution_count": 44,
   "id": "a1dbc8c5",
   "metadata": {},
   "outputs": [
    {
     "name": "stdout",
     "output_type": "stream",
     "text": [
      "enter a maths marks: 65\n",
      "get new cycle\n"
     ]
    }
   ],
   "source": [
    "marks = input(\"enter a english marks: \")\n",
    "\n",
    "if(marks > \"60%\"):\n",
    "    print(\"get new cycle\")\n",
    "    \n",
    "elif(marks < \"60%\"):\n",
    "    print(\"no pocket money\")\n",
    " "
   ]
  },
  {
   "cell_type": "markdown",
   "id": "76732722",
   "metadata": {},
   "source": [
    "Q8: Convert the below englist statement into code : values should be accepted from user If you got more\n",
    "than 80% marks in maths, and more than or equal to 70% marks in science and more than or equal to\n",
    "90% marks in English then you will get an ipad [NOTE: MAKE SURE THERE SHOULD BE ONE else\n",
    "Statement with each if statement with proper indentation]"
   ]
  },
  {
   "cell_type": "code",
   "execution_count": 77,
   "id": "0e7d12c7",
   "metadata": {},
   "outputs": [
    {
     "name": "stdout",
     "output_type": "stream",
     "text": [
      "enter a marks: 70%\n",
      "get an ipad\n"
     ]
    }
   ],
   "source": [
    "marks = input(\" enter a marks: \")\n",
    "\n",
    "if(marks > \"80%\"):\n",
    "    print(\"get an ipad\")\n",
    "    \n",
    "elif(marks <= \"70%\"):\n",
    "    print(\"get an ipad\")\n",
    "\n",
    "elif(marks <= \"90%\"):\n",
    "    print(\"get an ipad\")\n",
    "\n",
    "else:\n",
    "    (\"no ipad\")\n",
    " "
   ]
  },
  {
   "cell_type": "markdown",
   "id": "4a00fea9",
   "metadata": {},
   "source": [
    "# LOOPS\n",
    "\n",
    "Answer-1"
   ]
  },
  {
   "cell_type": "markdown",
   "id": "9c8ac527",
   "metadata": {},
   "source": [
    "# LOOPS\n",
    "Q1: using for loop and range()\n",
    "1) Print 0-10\n",
    "2) Print hello world 5 times\n",
    "3) Print 2-20\n",
    "4) Print 5-55 in steps of 10\n",
    "\n",
    "Q2:Create one list and iterate over the list using for,len and range\n",
    "\n",
    "Q3:Create a list fruits store apple,banana,grapes,oranges using for loop iterate and when it reaches to a\n",
    "banana if shoud print banana is available\n",
    "\n",
    "Q4: Convert the below english statement into code : values should be accepted from user If you got more\n",
    "than 60% marks overall I will give you salute five times(means we should print salute five times)else I will\n",
    "punish you five times(means we should print punishment five times)\n",
    "\n",
    "Q5: Convert the below englist statement into code : values should be accepted from user If you got more\n",
    "than 80% marks in maths, and more than or equal to 70% marks in science and more than or equal to\n",
    "90% marks in English then I will salute you as many times you want(means program should print\n",
    "whatever time user will say)\n",
    "[NOTE: MAKE SURE THERE SHOULD BE ONE else Statement with each if statement with proper\n",
    "indentation]\n",
    "\n",
    "Q6: Using for loop and range function print 0 – 100 but break the loop if it reaches 12\n",
    "\n",
    "Q7: Using for loop and range function print 0 – 10 but it shouldn’t print 7\n",
    "\n",
    "Q8: Create a list of names and iterate over them and print the index and item present at that particular\n",
    "index\n",
    "\n",
    "Q9 : From a range of numbers iterate over that range print which one is even and which one is odd"
   ]
  },
  {
   "cell_type": "markdown",
   "id": "e949f84a",
   "metadata": {},
   "source": [
    "Q1: using for loop and range()\n",
    "1) Print 0-10"
   ]
  },
  {
   "cell_type": "code",
   "execution_count": 11,
   "id": "1908f905",
   "metadata": {},
   "outputs": [
    {
     "name": "stdout",
     "output_type": "stream",
     "text": [
      "0\n",
      "1\n",
      "2\n",
      "3\n",
      "4\n",
      "5\n",
      "6\n",
      "7\n",
      "8\n",
      "9\n",
      "10\n"
     ]
    }
   ],
   "source": [
    "for i in range(0,11):\n",
    "    print(i)"
   ]
  },
  {
   "cell_type": "markdown",
   "id": "72d482d7",
   "metadata": {},
   "source": [
    "(2) Print hello world 5 times"
   ]
  },
  {
   "cell_type": "code",
   "execution_count": 75,
   "id": "82192076",
   "metadata": {},
   "outputs": [
    {
     "name": "stdout",
     "output_type": "stream",
     "text": [
      "Hello world\n",
      "Hello world\n",
      "Hello world\n",
      "Hello world\n",
      "Hello world\n"
     ]
    }
   ],
   "source": [
    "for i in range(5):\n",
    "    print('Hello world')"
   ]
  },
  {
   "cell_type": "code",
   "execution_count": 26,
   "id": "dfdc0bad",
   "metadata": {},
   "outputs": [
    {
     "name": "stdout",
     "output_type": "stream",
     "text": [
      "['hello world', 'hello world', 'hello world', 'hello world', 'hello world']\n"
     ]
    }
   ],
   "source": [
    "n=[\"hello world\"]\n",
    "\n",
    "for i in n:\n",
    "    \n",
    "    print(n*5)"
   ]
  },
  {
   "cell_type": "markdown",
   "id": "a54dc8be",
   "metadata": {},
   "source": [
    "(3) Print 2-20"
   ]
  },
  {
   "cell_type": "code",
   "execution_count": 28,
   "id": "add3e506",
   "metadata": {},
   "outputs": [
    {
     "name": "stdout",
     "output_type": "stream",
     "text": [
      "2\n",
      "3\n",
      "4\n",
      "5\n",
      "6\n",
      "7\n",
      "8\n",
      "9\n",
      "10\n",
      "11\n",
      "12\n",
      "13\n",
      "14\n",
      "15\n",
      "16\n",
      "17\n",
      "18\n",
      "19\n",
      "20\n"
     ]
    }
   ],
   "source": [
    "for i in range(2,21):\n",
    "    print(i)"
   ]
  },
  {
   "cell_type": "markdown",
   "id": "4254dc4d",
   "metadata": {},
   "source": [
    "(4) Print 5-55 in steps of 10"
   ]
  },
  {
   "cell_type": "code",
   "execution_count": 29,
   "id": "b5fdba52",
   "metadata": {},
   "outputs": [
    {
     "name": "stdout",
     "output_type": "stream",
     "text": [
      "5\n",
      "15\n",
      "25\n",
      "35\n",
      "45\n"
     ]
    }
   ],
   "source": [
    "for i in range(5,55,10):\n",
    "    print(i)"
   ]
  },
  {
   "cell_type": "code",
   "execution_count": null,
   "id": "54507c9d",
   "metadata": {},
   "outputs": [],
   "source": []
  },
  {
   "cell_type": "markdown",
   "id": "d3b9e966",
   "metadata": {},
   "source": [
    "Q2:Create one list and iterate over the list using for,len and range"
   ]
  },
  {
   "cell_type": "code",
   "execution_count": 86,
   "id": "5385d17f",
   "metadata": {},
   "outputs": [
    {
     "name": "stdout",
     "output_type": "stream",
     "text": [
      "9\n",
      "12\n",
      "45\n",
      "25\n",
      "85\n",
      "45\n",
      "26\n"
     ]
    },
    {
     "data": {
      "text/plain": [
       "7"
      ]
     },
     "execution_count": 86,
     "metadata": {},
     "output_type": "execute_result"
    }
   ],
   "source": [
    "l = [9,12,45,25,85,45,26]\n",
    "\n",
    "for i in l :\n",
    "    print(i)\n",
    "len(l)\n"
   ]
  },
  {
   "cell_type": "code",
   "execution_count": null,
   "id": "80589cab",
   "metadata": {},
   "outputs": [],
   "source": []
  },
  {
   "cell_type": "markdown",
   "id": "806eed0a",
   "metadata": {},
   "source": [
    "Q3:Create a list fruits store apple,banana,grapes,oranges using for loop iterate and when it reaches to a\n",
    "banana if shoud print banana is available"
   ]
  },
  {
   "cell_type": "code",
   "execution_count": 102,
   "id": "1b8b88a6",
   "metadata": {},
   "outputs": [
    {
     "name": "stdout",
     "output_type": "stream",
     "text": [
      "apple\n",
      "banana is available\n",
      "banana\n",
      "grapes\n",
      "oranges\n"
     ]
    }
   ],
   "source": [
    "fruit = [ \"apple\", \"banana\", \"grapes\", \"oranges\" ]\n",
    "\n",
    "for i in fruit:\n",
    "    \n",
    "    if(i == \"banana\"):\n",
    "        print(\"banana is available\")\n",
    "    print(i)\n"
   ]
  },
  {
   "cell_type": "code",
   "execution_count": null,
   "id": "92a58009",
   "metadata": {},
   "outputs": [],
   "source": []
  },
  {
   "cell_type": "markdown",
   "id": "171f4476",
   "metadata": {},
   "source": [
    "Q4: Convert the below english statement into code : values should be accepted from user If you got more\n",
    "than 60% marks overall I will give you salute five times(means we should print salute five times)else I will\n",
    "punish you five times(means we should print punishment five times)\n",
    "\n",
    "Q5: Convert the below englist statement into code : values should be accepted from user If you got more\n",
    "than 80% marks in maths, and more than or equal to 70% marks in science and more than or equal to\n",
    "90% marks in English then I will salute you as many times you want(means program should print\n",
    "whatever time user will say)\n",
    "[NOTE: MAKE SURE THERE SHOULD BE ONE else Statement with each if statement with proper\n",
    "indentation] "
   ]
  },
  {
   "cell_type": "code",
   "execution_count": null,
   "id": "d0d9c38c",
   "metadata": {},
   "outputs": [],
   "source": []
  },
  {
   "cell_type": "code",
   "execution_count": null,
   "id": "23372499",
   "metadata": {},
   "outputs": [],
   "source": [
    "Q4: Convert the below english statement into code : values should be accepted from user If you got more\n",
    "than 60% marks overall I will give you salute five times(means we should print salute five times)else I will\n",
    "punish you five times(means we should print punishment five times)"
   ]
  },
  {
   "cell_type": "code",
   "execution_count": 152,
   "id": "c55af7c3",
   "metadata": {},
   "outputs": [
    {
     "name": "stdout",
     "output_type": "stream",
     "text": [
      "enter a marks: 60%\n",
      "salute\n",
      "salute\n",
      "salute\n",
      "salute\n",
      "salute\n"
     ]
    }
   ],
   "source": [
    "marks = input(\"enter a marks: \")\n",
    "\n",
    "for i in range (5):\n",
    "        \n",
    "    if(marks <= \"60%\"):\n",
    "        print(\"salute\")\n",
    "           \n",
    "    else:\n",
    "        print(\"punish\")\n"
   ]
  },
  {
   "cell_type": "code",
   "execution_count": null,
   "id": "d98464d5",
   "metadata": {},
   "outputs": [],
   "source": []
  },
  {
   "cell_type": "code",
   "execution_count": null,
   "id": "869cbf4b",
   "metadata": {},
   "outputs": [],
   "source": [
    "Q6: Using for loop and range function print 0 – 100 but break the loop if it reaches 12"
   ]
  },
  {
   "cell_type": "code",
   "execution_count": 109,
   "id": "c58117cd",
   "metadata": {},
   "outputs": [
    {
     "name": "stdout",
     "output_type": "stream",
     "text": [
      "0\n",
      "1\n",
      "2\n",
      "3\n",
      "4\n",
      "5\n",
      "6\n",
      "7\n",
      "8\n",
      "9\n",
      "10\n",
      "11\n"
     ]
    }
   ],
   "source": [
    "for i in range(0,100):\n",
    "    if i ==12 :\n",
    "        break\n",
    "    else:\n",
    "        print(i)"
   ]
  },
  {
   "cell_type": "code",
   "execution_count": null,
   "id": "b7e57d0b",
   "metadata": {},
   "outputs": [],
   "source": []
  },
  {
   "cell_type": "code",
   "execution_count": null,
   "id": "29c80fe7",
   "metadata": {},
   "outputs": [],
   "source": [
    "Q7: Using for loop and range function print 0 – 10 but it shouldn’t print 7"
   ]
  },
  {
   "cell_type": "code",
   "execution_count": 110,
   "id": "b48a5c9a",
   "metadata": {},
   "outputs": [
    {
     "name": "stdout",
     "output_type": "stream",
     "text": [
      "0\n",
      "1\n",
      "2\n",
      "3\n",
      "4\n",
      "5\n",
      "6\n",
      "8\n",
      "9\n",
      "10\n"
     ]
    }
   ],
   "source": [
    "for i in range(0,11):\n",
    "    if i ==7:\n",
    "        continue\n",
    "    else :\n",
    "        print(i)"
   ]
  },
  {
   "cell_type": "code",
   "execution_count": null,
   "id": "baa34523",
   "metadata": {},
   "outputs": [],
   "source": []
  },
  {
   "cell_type": "code",
   "execution_count": null,
   "id": "238f64c3",
   "metadata": {},
   "outputs": [],
   "source": [
    "Q8: Create a list of names and iterate over them and print the index and item present at that particular\n",
    "index"
   ]
  },
  {
   "cell_type": "code",
   "execution_count": 166,
   "id": "6b093a78",
   "metadata": {},
   "outputs": [
    {
     "name": "stdout",
     "output_type": "stream",
     "text": [
      "a\n",
      "b\n",
      "c\n",
      "m\n"
     ]
    }
   ],
   "source": [
    "name=\"apple,banana,cherry,mango\"\n",
    "\n",
    "print(name[0])\n",
    "print(name[6])\n",
    "print(name[13])\n",
    "print(name[20])"
   ]
  },
  {
   "cell_type": "code",
   "execution_count": null,
   "id": "5d88897f",
   "metadata": {},
   "outputs": [],
   "source": []
  },
  {
   "cell_type": "code",
   "execution_count": null,
   "id": "f2915a77",
   "metadata": {},
   "outputs": [],
   "source": [
    "Q9 : From a range of numbers iterate over that range print which one is even and which one is odd"
   ]
  },
  {
   "cell_type": "code",
   "execution_count": 128,
   "id": "8f5f2ea5",
   "metadata": {},
   "outputs": [
    {
     "name": "stdout",
     "output_type": "stream",
     "text": [
      "1 is odd\n",
      "2 is even\n",
      "3 is odd\n",
      "4 is even\n",
      "5 is odd\n",
      "6 is even\n",
      "7 is odd\n",
      "8 is even\n",
      "9 is odd\n",
      "10 is even\n"
     ]
    }
   ],
   "source": [
    "for i in range(1,11):\n",
    "    if i %2==0:\n",
    "        print(i,'is even')\n",
    "        \n",
    "    else :\n",
    "        print(i,'is odd')"
   ]
  },
  {
   "cell_type": "code",
   "execution_count": 124,
   "id": "855fa378",
   "metadata": {},
   "outputs": [
    {
     "name": "stdout",
     "output_type": "stream",
     "text": [
      "0 even\n",
      "1 odd\n",
      "2 even\n",
      "3 odd\n",
      "4 even\n",
      "5 odd\n",
      "6 even\n",
      "7 odd\n",
      "8 even\n",
      "9 odd\n",
      "10 even\n",
      "10\n"
     ]
    }
   ],
   "source": [
    "n = [1,2,3,4,5,6,7,8,9,10]\n",
    "for i in range (11):\n",
    "    if i%2==0:\n",
    "        print(i,'even')\n",
    "    else:\n",
    "        print(i,'odd')\n"
   ]
  },
  {
   "cell_type": "code",
   "execution_count": null,
   "id": "d979b057",
   "metadata": {},
   "outputs": [],
   "source": []
  },
  {
   "cell_type": "markdown",
   "id": "fc67d051",
   "metadata": {},
   "source": [
    "# FUCTIONS\n",
    "Q1: Create a function and the functionality should be it should print “Hello caller”\n",
    "Call this function multiple times\n",
    "\n",
    "Q2: Create a function which accept one variable(parameter) and print its value\n",
    "\n",
    "Q3: Create a function which accepts one variable and checks whether its even or odd\n",
    "\n",
    "Q4: Create a function which accept two values and prints which one is larger value\n",
    "\n",
    "Q5: Create a function which accept two values and prints which one is smaller value\n",
    "\n",
    "Q6: Create a function which can accept any number of parameters\n",
    "\n",
    "Q7: Create a function which will accept a list and functionality of the function should be it should iterate\n",
    "over the list and print all the elements with there respective indexes\n",
    "\n",
    "Q8: Create a function which will have default parameters and doesn’t give error when we don’t pass the\n",
    "parameters Q9: Create a function which can find the largest item inside the list\n",
    "\n",
    "Q10: Create a function which a print all even and odd number over a specified range"
   ]
  },
  {
   "cell_type": "code",
   "execution_count": null,
   "id": "809cc57e",
   "metadata": {},
   "outputs": [],
   "source": [
    "Q1: Create a function and the functionality should be it should print “Hello caller”\n",
    "Call this function multiple times"
   ]
  },
  {
   "cell_type": "code",
   "execution_count": 173,
   "id": "27e577cf",
   "metadata": {},
   "outputs": [
    {
     "name": "stdout",
     "output_type": "stream",
     "text": [
      "Hello caller\n",
      "Hello caller\n",
      "Hello caller\n",
      "Hello caller\n",
      "Hello caller\n"
     ]
    }
   ],
   "source": [
    "def call():\n",
    "    for i in range(5):\n",
    "        print(\"Hello caller\")\n",
    "call()"
   ]
  },
  {
   "cell_type": "code",
   "execution_count": null,
   "id": "15c06dcf",
   "metadata": {},
   "outputs": [],
   "source": []
  },
  {
   "cell_type": "code",
   "execution_count": null,
   "id": "a66aecc8",
   "metadata": {},
   "outputs": [],
   "source": [
    "Q2: Create a function which accept one variable(parameter) and print its value"
   ]
  },
  {
   "cell_type": "code",
   "execution_count": 2,
   "id": "e99b19f1",
   "metadata": {},
   "outputs": [
    {
     "name": "stdout",
     "output_type": "stream",
     "text": [
      "hello amit\n"
     ]
    }
   ],
   "source": [
    "def hello_to_you(name):\n",
    "    print(f\"hello {name}\")\n",
    "    \n",
    "hello_to_you(\"amit\")\n"
   ]
  },
  {
   "cell_type": "code",
   "execution_count": null,
   "id": "a9376483",
   "metadata": {},
   "outputs": [],
   "source": []
  },
  {
   "cell_type": "code",
   "execution_count": null,
   "id": "118d42c2",
   "metadata": {},
   "outputs": [],
   "source": [
    "Q3: Create a function which accepts one variable and checks whether its even or odd"
   ]
  },
  {
   "cell_type": "code",
   "execution_count": 132,
   "id": "ae03d301",
   "metadata": {},
   "outputs": [
    {
     "name": "stdout",
     "output_type": "stream",
     "text": [
      "1 odd\n",
      "2 even\n",
      "3 odd\n"
     ]
    }
   ],
   "source": [
    "def fun():\n",
    "    for i in range(1,4):\n",
    "        if i%2==0:\n",
    "            print(i,'even')\n",
    "        else:\n",
    "            print(i,'odd')\n",
    "fun()"
   ]
  },
  {
   "cell_type": "code",
   "execution_count": null,
   "id": "47519a20",
   "metadata": {},
   "outputs": [],
   "source": []
  },
  {
   "cell_type": "code",
   "execution_count": null,
   "id": "729532a8",
   "metadata": {},
   "outputs": [],
   "source": [
    "Q4: Create a function which accept two values and prints which one is larger value"
   ]
  },
  {
   "cell_type": "code",
   "execution_count": 158,
   "id": "89238ccc",
   "metadata": {},
   "outputs": [
    {
     "name": "stdout",
     "output_type": "stream",
     "text": [
      "entert the number :53\n",
      "entert the number :4\n",
      "A is larger value\n"
     ]
    }
   ],
   "source": [
    "def largest():\n",
    "    a = input('entert the number :')\n",
    "    b = input('entert the number :')\n",
    "    if a>b:\n",
    "        print('A is larger value')\n",
    "    else:\n",
    "        print('B is larger value')\n",
    "        \n",
    "largest()"
   ]
  },
  {
   "cell_type": "code",
   "execution_count": null,
   "id": "7203cdd6",
   "metadata": {},
   "outputs": [],
   "source": []
  },
  {
   "cell_type": "code",
   "execution_count": null,
   "id": "7948abe9",
   "metadata": {},
   "outputs": [],
   "source": [
    "Q5: Create a function which accept two values and prints which one is smaller value"
   ]
  },
  {
   "cell_type": "code",
   "execution_count": 162,
   "id": "14986890",
   "metadata": {},
   "outputs": [
    {
     "name": "stdout",
     "output_type": "stream",
     "text": [
      "enter the values :46\n",
      "enter the values :24\n",
      "B is smaller value\n"
     ]
    }
   ],
   "source": [
    "def func():\n",
    "    A = input('enter the values :')\n",
    "    B = input('enter the values :')\n",
    "    if A<B:\n",
    "        print('A is smaller value')\n",
    "    else:\n",
    "        print('B is smaller value')\n",
    "func()"
   ]
  },
  {
   "cell_type": "code",
   "execution_count": null,
   "id": "08c3e80c",
   "metadata": {},
   "outputs": [],
   "source": []
  },
  {
   "cell_type": "code",
   "execution_count": null,
   "id": "0eef48c0",
   "metadata": {},
   "outputs": [],
   "source": [
    "Q6: Create a function which can accept any number of parameters"
   ]
  },
  {
   "cell_type": "code",
   "execution_count": 9,
   "id": "57fa7de9",
   "metadata": {},
   "outputs": [
    {
     "data": {
      "text/plain": [
       "50"
      ]
     },
     "execution_count": 9,
     "metadata": {},
     "output_type": "execute_result"
    }
   ],
   "source": [
    "def multiply_values(x,y):\n",
    "    z=x*y\n",
    "    return z\n",
    "multiply_values(x=5,y=10)"
   ]
  },
  {
   "cell_type": "code",
   "execution_count": null,
   "id": "da772051",
   "metadata": {},
   "outputs": [],
   "source": []
  },
  {
   "cell_type": "code",
   "execution_count": null,
   "id": "1c472de8",
   "metadata": {},
   "outputs": [],
   "source": [
    "Q7: Create a function which will accept a list and functionality of the function should be it should iterate\n",
    "over the list and print all the elements with there respective indexes"
   ]
  },
  {
   "cell_type": "code",
   "execution_count": 24,
   "id": "000db369",
   "metadata": {},
   "outputs": [
    {
     "name": "stdout",
     "output_type": "stream",
     "text": [
      "apple\n",
      "banana\n",
      "3\n",
      "4\n"
     ]
    }
   ],
   "source": [
    "list = [\"apple\", \"banana\", 3, 4]\n",
    "# getting length of list using len() function\n",
    "length = len(list)\n",
    "\n",
    "# using for loop along with range() function\n",
    "for i in range(length):\n",
    "    print(list[i])"
   ]
  },
  {
   "cell_type": "code",
   "execution_count": null,
   "id": "58b2415f",
   "metadata": {},
   "outputs": [],
   "source": []
  },
  {
   "cell_type": "code",
   "execution_count": null,
   "id": "fd2a7245",
   "metadata": {},
   "outputs": [],
   "source": [
    "Q8: Create a function which will have default parameters and doesn’t give error when we don’t pass the\n",
    "parameters"
   ]
  },
  {
   "cell_type": "code",
   "execution_count": 26,
   "id": "53ef9c8a",
   "metadata": {},
   "outputs": [
    {
     "name": "stdout",
     "output_type": "stream",
     "text": [
      "9\n"
     ]
    }
   ],
   "source": [
    "def take_power(integer1, integer2=2):\n",
    "    result = 1\n",
    "    for i in range(integer2):\n",
    "        result = result * integer1\n",
    "\n",
    "    return result\n",
    "\n",
    "result = take_power(3)\n",
    "print(result)"
   ]
  },
  {
   "cell_type": "code",
   "execution_count": null,
   "id": "2d7f118e",
   "metadata": {},
   "outputs": [],
   "source": []
  },
  {
   "cell_type": "code",
   "execution_count": null,
   "id": "f4aaecfd",
   "metadata": {},
   "outputs": [],
   "source": [
    "Q9: Create a function which can find the largest item inside the list."
   ]
  },
  {
   "cell_type": "code",
   "execution_count": 49,
   "id": "607d6c83",
   "metadata": {},
   "outputs": [
    {
     "name": "stdout",
     "output_type": "stream",
     "text": [
      "12\n"
     ]
    }
   ],
   "source": [
    "list1 = [4, -10, 8, 12, -1]\n",
    "\n",
    "def max_value_in_List():\n",
    "    for i in range():\n",
    "        print(i)\n",
    "        \n",
    "maxValue = max(list1)\n",
    "\n",
    "print(maxValue)\n"
   ]
  },
  {
   "cell_type": "code",
   "execution_count": null,
   "id": "c4603f49",
   "metadata": {},
   "outputs": [],
   "source": []
  },
  {
   "cell_type": "code",
   "execution_count": null,
   "id": "18bdd819",
   "metadata": {},
   "outputs": [],
   "source": [
    "Q10: Create a function which a print all even and odd number over a specified range"
   ]
  },
  {
   "cell_type": "code",
   "execution_count": 168,
   "id": "5c9fde6b",
   "metadata": {},
   "outputs": [
    {
     "name": "stdout",
     "output_type": "stream",
     "text": [
      "1 its odd\n",
      "2 its even\n",
      "3 its odd\n",
      "4 its even\n",
      "5 its odd\n",
      "6 its even\n",
      "7 its odd\n",
      "8 its even\n",
      "9 its odd\n",
      "10 its even\n"
     ]
    }
   ],
   "source": [
    "def alll():\n",
    "    for i in range(1,11):\n",
    "        if i%2==0:\n",
    "            print(i,'its even')\n",
    "        else:\n",
    "            print(i,'its odd')\n",
    "            \n",
    "alll()"
   ]
  },
  {
   "cell_type": "markdown",
   "id": "c1012583",
   "metadata": {},
   "source": [
    "# Complete"
   ]
  }
 ],
 "metadata": {
  "kernelspec": {
   "display_name": "Python 3 (ipykernel)",
   "language": "python",
   "name": "python3"
  },
  "language_info": {
   "codemirror_mode": {
    "name": "ipython",
    "version": 3
   },
   "file_extension": ".py",
   "mimetype": "text/x-python",
   "name": "python",
   "nbconvert_exporter": "python",
   "pygments_lexer": "ipython3",
   "version": "3.9.7"
  }
 },
 "nbformat": 4,
 "nbformat_minor": 5
}
