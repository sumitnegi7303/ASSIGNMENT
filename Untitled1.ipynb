{
 "cells": [
  {
   "cell_type": "markdown",
   "id": "1aa40f22",
   "metadata": {},
   "source": [
    "# DataFrame Project Pandas:\n",
    "\n",
    "\n",
    "Note : Whole programme should be user driven only\n",
    "\n",
    "● End Product : Data Frame with data according to the user\n",
    "\n",
    "● Create a dataframe with number of column and and column names\n",
    "according to the user\n",
    "\n",
    "● Ask user dataframe is created you can store data\n",
    "\n",
    "● Let user store data as many times as it requites\n",
    "\n",
    "● Store the DataFrame into the memory using syntax\n",
    "\n",
    "● DataFrameName.to_csv(‘DataFrameName.csv’)"
   ]
  },
  {
   "cell_type": "code",
   "execution_count": null,
   "id": "8a64bf25",
   "metadata": {},
   "outputs": [],
   "source": []
  }
 ],
 "metadata": {
  "kernelspec": {
   "display_name": "Python 3 (ipykernel)",
   "language": "python",
   "name": "python3"
  },
  "language_info": {
   "codemirror_mode": {
    "name": "ipython",
    "version": 3
   },
   "file_extension": ".py",
   "mimetype": "text/x-python",
   "name": "python",
   "nbconvert_exporter": "python",
   "pygments_lexer": "ipython3",
   "version": "3.9.7"
  }
 },
 "nbformat": 4,
 "nbformat_minor": 5
}
